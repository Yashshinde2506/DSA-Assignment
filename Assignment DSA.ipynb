{
 "cells": [
  {
   "cell_type": "code",
   "execution_count": 1,
   "id": "45465c58",
   "metadata": {},
   "outputs": [
    {
     "name": "stdout",
     "output_type": "stream",
     "text": [
      "5 -> 4 -> 3 -> 2 -> 1 -> "
     ]
    }
   ],
   "source": [
    "class ListNode:\n",
    "    def __init__(self, value=0, next=None):\n",
    "        self.value = value\n",
    "        self.next = next\n",
    "\n",
    "def reverse_linked_list(head):\n",
    "    prev = None\n",
    "    current = head\n",
    "\n",
    "    while current is not None:\n",
    "        next_node = current.next\n",
    "        current.next = prev\n",
    "        prev = current\n",
    "        current = next_node\n",
    "\n",
    "    return prev\n",
    "\n",
    "# Example usage:\n",
    "# Create a linked list: 1 -> 2 -> 3 -> 4 -> 5\n",
    "head = ListNode(1, ListNode(2, ListNode(3, ListNode(4, ListNode(5)))))\n",
    "reversed_head = reverse_linked_list(head)\n",
    "\n",
    "# Print the reversed linked list\n",
    "while reversed_head is not None:\n",
    "    print(reversed_head.value, end=\" -> \")\n",
    "    reversed_head = reversed_head.next\n"
   ]
  },
  {
   "cell_type": "code",
   "execution_count": 2,
   "id": "e3676815",
   "metadata": {},
   "outputs": [
    {
     "name": "stdout",
     "output_type": "stream",
     "text": [
      "1 -> 2 -> 3 -> 4 -> 5 -> 6 -> "
     ]
    }
   ],
   "source": [
    "class ListNode:\n",
    "    def __init__(self, value=0, next=None):\n",
    "        self.value = value\n",
    "        self.next = next\n",
    "\n",
    "def merge_sorted_lists(list1, list2):\n",
    "    dummy = ListNode()\n",
    "    current = dummy\n",
    "\n",
    "    while list1 is not None and list2 is not None:\n",
    "        if list1.value < list2.value:\n",
    "            current.next = list1\n",
    "            list1 = list1.next\n",
    "        else:\n",
    "            current.next = list2\n",
    "            list2 = list2.next\n",
    "\n",
    "        current = current.next\n",
    "\n",
    "    # If one of the lists is not empty, append the remaining elements\n",
    "    if list1 is not None:\n",
    "        current.next = list1\n",
    "    elif list2 is not None:\n",
    "        current.next = list2\n",
    "\n",
    "    return dummy.next\n",
    "\n",
    "# Example usage:\n",
    "# Create two sorted linked lists: 1 -> 3 -> 5 and 2 -> 4 -> 6\n",
    "list1 = ListNode(1, ListNode(3, ListNode(5)))\n",
    "list2 = ListNode(2, ListNode(4, ListNode(6)))\n",
    "merged_list = merge_sorted_lists(list1, list2)\n",
    "\n",
    "# Print the merged list\n",
    "while merged_list is not None:\n",
    "    print(merged_list.value, end=\" -> \")\n",
    "    merged_list = merged_list.next\n"
   ]
  },
  {
   "cell_type": "code",
   "execution_count": 3,
   "id": "1425caf9",
   "metadata": {},
   "outputs": [
    {
     "name": "stdout",
     "output_type": "stream",
     "text": [
      "1 -> 2 -> 3 -> 5 -> "
     ]
    }
   ],
   "source": [
    "class ListNode:\n",
    "    def __init__(self, value=0, next=None):\n",
    "        self.value = value\n",
    "        self.next = next\n",
    "\n",
    "def remove_nth_from_end(head, n):\n",
    "    dummy = ListNode(0)\n",
    "    dummy.next = head\n",
    "    first = dummy\n",
    "    second = dummy\n",
    "\n",
    "    # Move the second pointer n+1 steps ahead\n",
    "    for _ in range(n + 1):\n",
    "        second = second.next\n",
    "\n",
    "    # Move both pointers until the second pointer reaches the end\n",
    "    while second is not None:\n",
    "        first = first.next\n",
    "        second = second.next\n",
    "\n",
    "    # Remove the nth node from the end\n",
    "    first.next = first.next.next\n",
    "\n",
    "    return dummy.next\n",
    "\n",
    "# Example usage:\n",
    "# Create a linked list: 1 -> 2 -> 3 -> 4 -> 5\n",
    "head = ListNode(1, ListNode(2, ListNode(3, ListNode(4, ListNode(5)))))\n",
    "n = 2\n",
    "new_head = remove_nth_from_end(head, n)\n",
    "\n",
    "# Print the modified linked list\n",
    "while new_head is not None:\n",
    "    print(new_head.value, end=\" -> \")\n",
    "    new_head = new_head.next\n"
   ]
  },
  {
   "cell_type": "code",
   "execution_count": 4,
   "id": "a5019123",
   "metadata": {},
   "outputs": [
    {
     "name": "stdout",
     "output_type": "stream",
     "text": [
      "Intersection Node Value: 3\n"
     ]
    }
   ],
   "source": [
    "class ListNode:\n",
    "    def __init__(self, value=0, next=None):\n",
    "        self.value = value\n",
    "        self.next = next\n",
    "\n",
    "def find_intersection(list1, list2):\n",
    "    # Helper function to find the length of a linked list\n",
    "    def get_length(node):\n",
    "        length = 0\n",
    "        while node is not None:\n",
    "            length += 1\n",
    "            node = node.next\n",
    "        return length\n",
    "\n",
    "    # Get the lengths of both linked lists\n",
    "    len1 = get_length(list1)\n",
    "    len2 = get_length(list2)\n",
    "\n",
    "    # Move the longer list's head pointer to the same starting position\n",
    "    while len1 > len2:\n",
    "        list1 = list1.next\n",
    "        len1 -= 1\n",
    "\n",
    "    while len2 > len1:\n",
    "        list2 = list2.next\n",
    "        len2 -= 1\n",
    "\n",
    "    # Traverse both lists simultaneously until an intersection is found\n",
    "    while list1 is not None and list2 is not None:\n",
    "        if list1 == list2:\n",
    "            return list1  # Intersection found\n",
    "\n",
    "        list1 = list1.next\n",
    "        list2 = list2.next\n",
    "\n",
    "    return None  # No intersection found\n",
    "\n",
    "# Example usage:\n",
    "# Create two linked lists with an intersection point: 1 -> 2 -> 3 -> 4 and 9 -> 8 -> 3 -> 4\n",
    "list1 = ListNode(1, ListNode(2, ListNode(3, ListNode(4))))\n",
    "list2 = ListNode(9, ListNode(8, list1.next.next))  # Connect the two lists at node with value 3\n",
    "\n",
    "intersection_node = find_intersection(list1, list2)\n",
    "\n",
    "if intersection_node is not None:\n",
    "    print(f\"Intersection Node Value: {intersection_node.value}\")\n",
    "else:\n",
    "    print(\"No intersection found\")\n"
   ]
  },
  {
   "cell_type": "code",
   "execution_count": 5,
   "id": "6cae5c91",
   "metadata": {},
   "outputs": [
    {
     "name": "stdout",
     "output_type": "stream",
     "text": [
      "1 -> 2 -> 3 -> "
     ]
    }
   ],
   "source": [
    "class ListNode:\n",
    "    def __init__(self, value=0, next=None):\n",
    "        self.value = value\n",
    "        self.next = next\n",
    "\n",
    "def remove_duplicates(head):\n",
    "    current = head\n",
    "\n",
    "    while current is not None and current.next is not None:\n",
    "        if current.value == current.next.value:\n",
    "            # Remove the node with duplicate value\n",
    "            current.next = current.next.next\n",
    "        else:\n",
    "            # Move to the next node\n",
    "            current = current.next\n",
    "\n",
    "    return head\n",
    "\n",
    "# Example usage:\n",
    "# Create a sorted linked list with duplicates: 1 -> 1 -> 2 -> 3 -> 3\n",
    "head = ListNode(1, ListNode(1, ListNode(2, ListNode(3, ListNode(3)))))\n",
    "\n",
    "# Remove duplicates\n",
    "new_head = remove_duplicates(head)\n",
    "\n",
    "# Print the modified linked list\n",
    "while new_head is not None:\n",
    "    print(new_head.value, end=\" -> \")\n",
    "    new_head = new_head.next\n",
    "\n",
    "    "
   ]
  },
  {
   "cell_type": "code",
   "execution_count": 6,
   "id": "338fa650",
   "metadata": {},
   "outputs": [
    {
     "name": "stdout",
     "output_type": "stream",
     "text": [
      "7 -> 0 -> 8 -> "
     ]
    }
   ],
   "source": [
    "class ListNode:\n",
    "    def __init__(self, value=0, next=None):\n",
    "        self.value = value\n",
    "        self.next = next\n",
    "\n",
    "def add_two_numbers(list1, list2):\n",
    "    dummy = ListNode()  # Dummy node to simplify the code\n",
    "    current = dummy\n",
    "    carry = 0\n",
    "\n",
    "    while list1 is not None or list2 is not None or carry:\n",
    "        # Get the values of the current nodes (default to 0 if the node is None)\n",
    "        value1 = list1.value if list1 else 0\n",
    "        value2 = list2.value if list2 else 0\n",
    "\n",
    "        # Calculate the sum and carry\n",
    "        total_sum = value1 + value2 + carry\n",
    "        carry = total_sum // 10  # Calculate carry for the next iteration\n",
    "        current.next = ListNode(total_sum % 10)  # Add the digit to the result\n",
    "\n",
    "        # Move to the next nodes if available\n",
    "        if list1:\n",
    "            list1 = list1.next\n",
    "        if list2:\n",
    "            list2 = list2.next\n",
    "\n",
    "        current = current.next\n",
    "\n",
    "    return dummy.next\n",
    "\n",
    "# Example usage:\n",
    "# Create two linked lists representing numbers: 2 -> 4 -> 3 and 5 -> 6 -> 4\n",
    "list1 = ListNode(2, ListNode(4, ListNode(3)))\n",
    "list2 = ListNode(5, ListNode(6, ListNode(4)))\n",
    "\n",
    "# Add the two numbers\n",
    "result = add_two_numbers(list1, list2)\n",
    "\n",
    "# Print the result\n",
    "while result is not None:\n",
    "    print(result.value, end=\" -> \")\n",
    "    result = result.next\n"
   ]
  },
  {
   "cell_type": "code",
   "execution_count": 7,
   "id": "e0d9527d",
   "metadata": {},
   "outputs": [
    {
     "name": "stdout",
     "output_type": "stream",
     "text": [
      "2 -> 1 -> 4 -> 3 -> "
     ]
    }
   ],
   "source": [
    "class ListNode:\n",
    "    def __init__(self, value=0, next=None):\n",
    "        self.value = value\n",
    "        self.next = next\n",
    "\n",
    "def swap_pairs(head):\n",
    "    dummy = ListNode(0)\n",
    "    dummy.next = head\n",
    "    current = dummy\n",
    "\n",
    "    while current.next is not None and current.next.next is not None:\n",
    "        # Nodes to be swapped\n",
    "        node1 = current.next\n",
    "        node2 = current.next.next\n",
    "\n",
    "        # Swap nodes\n",
    "        current.next = node2\n",
    "        node1.next = node2.next\n",
    "        node2.next = node1\n",
    "\n",
    "        # Move to the next pair\n",
    "        current = node1\n",
    "\n",
    "    return dummy.next\n",
    "\n",
    "# Example usage:\n",
    "# Create a linked list: 1 -> 2 -> 3 -> 4\n",
    "head = ListNode(1, ListNode(2, ListNode(3, ListNode(4))))\n",
    "\n",
    "# Swap pairs\n",
    "new_head = swap_pairs(head)\n",
    "\n",
    "# Print the modified linked list\n",
    "while new_head is not None:\n",
    "    print(new_head.value, end=\" -> \")\n",
    "    new_head = new_head.next\n"
   ]
  },
  {
   "cell_type": "code",
   "execution_count": 1,
   "id": "54e697fb",
   "metadata": {},
   "outputs": [
    {
     "name": "stdout",
     "output_type": "stream",
     "text": [
      "True\n"
     ]
    }
   ],
   "source": [
    "class ListNode:\n",
    "    def __init__(self, value=0, next=None):\n",
    "        self.value = value\n",
    "        self.next = next\n",
    "\n",
    "def is_palindrome(head):\n",
    "    # Helper function to reverse a linked list\n",
    "    def reverse_list(node):\n",
    "        prev, current = None, node\n",
    "\n",
    "        while current:\n",
    "            next_node = current.next\n",
    "            current.next = prev\n",
    "            prev, current = current, next_node\n",
    "\n",
    "        return prev\n",
    "\n",
    "    # Helper function to find the middle of the linked list\n",
    "    def find_middle(node):\n",
    "        slow = fast = node\n",
    "\n",
    "        while fast and fast.next:\n",
    "            slow = slow.next\n",
    "            fast = fast.next.next\n",
    "\n",
    "        return slow\n",
    "\n",
    "    if not head or not head.next:\n",
    "        return True  # An empty list or a list with one node is a palindrome\n",
    "\n",
    "    middle = find_middle(head)\n",
    "    second_half_reversed = reverse_list(middle)\n",
    "\n",
    "    # Compare the first and reversed second halves\n",
    "    while second_half_reversed:\n",
    "        if head.value != second_half_reversed.value:\n",
    "            return False\n",
    "        head = head.next\n",
    "        second_half_reversed = second_half_reversed.next\n",
    "\n",
    "    return True\n",
    "\n",
    "# Example usage:\n",
    "# Create a linked list: 1 -> 2 -> 2 -> 1\n",
    "head = ListNode(1, ListNode(2, ListNode(2, ListNode(1))))\n",
    "result = is_palindrome(head)\n",
    "\n",
    "print(result)  # Output: True\n"
   ]
  },
  {
   "cell_type": "code",
   "execution_count": 2,
   "id": "dca8f44e",
   "metadata": {},
   "outputs": [
    {
     "name": "stdout",
     "output_type": "stream",
     "text": [
      "4 -> 5 -> 1 -> 2 -> 3 -> "
     ]
    }
   ],
   "source": [
    "class ListNode:\n",
    "    def __init__(self, value=0, next=None):\n",
    "        self.value = value\n",
    "        self.next = next\n",
    "\n",
    "def rotate_right(head, k):\n",
    "    if not head or k == 0:\n",
    "        return head  # No rotation needed\n",
    "\n",
    "    # Helper function to find the length of the linked list\n",
    "    def get_length(node):\n",
    "        length = 0\n",
    "        while node:\n",
    "            length += 1\n",
    "            node = node.next\n",
    "        return length\n",
    "\n",
    "    length = get_length(head)\n",
    "    k = k % length  # Effective rotation amount\n",
    "\n",
    "    if k == 0:\n",
    "        return head  # No rotation needed\n",
    "\n",
    "    # Find the new head and tail after rotation\n",
    "    new_head = head\n",
    "    new_tail = head\n",
    "    for _ in range(length - k - 1):\n",
    "        new_tail = new_tail.next\n",
    "\n",
    "    new_head = new_tail.next\n",
    "    new_tail.next = None\n",
    "\n",
    "    # Connect the original tail to the original head\n",
    "    current = new_head\n",
    "    while current.next:\n",
    "        current = current.next\n",
    "    current.next = head\n",
    "\n",
    "    return new_head\n",
    "\n",
    "# Example usage:\n",
    "# Create a linked list: 1 -> 2 -> 3 -> 4 -> 5\n",
    "head = ListNode(1, ListNode(2, ListNode(3, ListNode(4, ListNode(5)))))\n",
    "k = 2\n",
    "new_head = rotate_right(head, k)\n",
    "\n",
    "# Print the modified linked list\n",
    "while new_head:\n",
    "    print(new_head.value, end=\" -> \")\n",
    "    new_head = new_head.next\n"
   ]
  },
  {
   "cell_type": "code",
   "execution_count": 3,
   "id": "013ff6dc",
   "metadata": {},
   "outputs": [
    {
     "name": "stdout",
     "output_type": "stream",
     "text": [
      "9\n"
     ]
    }
   ],
   "source": [
    "def find_maximum(lst):\n",
    "    if not lst:\n",
    "        return None  # Handle an empty list\n",
    "\n",
    "    max_element = lst[0]\n",
    "\n",
    "    for element in lst:\n",
    "        if element > max_element:\n",
    "            max_element = element\n",
    "\n",
    "    return max_element\n",
    "\n",
    "# Example usage:\n",
    "input_list = [3, 7, 2, 9, 4, 1]\n",
    "result = find_maximum(input_list)\n",
    "\n",
    "print(result)  # Output: 9\n"
   ]
  },
  {
   "cell_type": "code",
   "execution_count": 4,
   "id": "292e56d4",
   "metadata": {},
   "outputs": [
    {
     "name": "stdout",
     "output_type": "stream",
     "text": [
      "120\n"
     ]
    }
   ],
   "source": [
    "def factorial(n):\n",
    "    if n == 0 or n == 1:\n",
    "        return 1\n",
    "    else:\n",
    "        return n * factorial(n - 1)\n",
    "\n",
    "# Example usage:\n",
    "input_number = 5\n",
    "result = factorial(input_number)\n",
    "\n",
    "print(result)  # Output: 120\n",
    "\n"
   ]
  },
  {
   "cell_type": "code",
   "execution_count": 5,
   "id": "80afe3a7",
   "metadata": {},
   "outputs": [
    {
     "name": "stdout",
     "output_type": "stream",
     "text": [
      "True\n"
     ]
    }
   ],
   "source": [
    "def is_prime(n):\n",
    "    if n <= 1:\n",
    "        return False  # 0 and 1 are not prime numbers\n",
    "\n",
    "    for i in range(2, int(n**0.5) + 1):\n",
    "        if n % i == 0:\n",
    "            return False  # If n is divisible by any number in this range, it's not prime\n",
    "\n",
    "    return True\n",
    "\n",
    "# Example usage:\n",
    "input_number = 7\n",
    "result = is_prime(input_number)\n",
    "\n",
    "print(result)  # Output: True\n"
   ]
  },
  {
   "cell_type": "code",
   "execution_count": 6,
   "id": "77b07f81",
   "metadata": {},
   "outputs": [
    {
     "name": "stdout",
     "output_type": "stream",
     "text": [
      "[0, 1, 1, 2, 3, 5, 8]\n"
     ]
    }
   ],
   "source": [
    "def generate_fibonacci(n):\n",
    "    fibonacci_list = [0, 1]\n",
    "\n",
    "    while fibonacci_list[-1] + fibonacci_list[-2] <= n:\n",
    "        next_fibonacci = fibonacci_list[-1] + fibonacci_list[-2]\n",
    "        fibonacci_list.append(next_fibonacci)\n",
    "\n",
    "    return fibonacci_list\n",
    "\n",
    "# Example usage:\n",
    "input_value = 8\n",
    "result = generate_fibonacci(input_value)\n",
    "\n",
    "print(result)  # Output: [0, 1, 1, 2, 3, 5, 8]\n"
   ]
  },
  {
   "cell_type": "code",
   "execution_count": 7,
   "id": "928a994a",
   "metadata": {},
   "outputs": [
    {
     "name": "stdout",
     "output_type": "stream",
     "text": [
      "81\n"
     ]
    }
   ],
   "source": [
    "def calculate_power(base, exponent):\n",
    "    result = base ** exponent\n",
    "    return result\n",
    "\n",
    "# Example usage:\n",
    "base_value = 3\n",
    "exponent_value = 4\n",
    "result = calculate_power(base_value, exponent_value)\n",
    "\n",
    "print(result)  # Output: 81\n"
   ]
  },
  {
   "cell_type": "code",
   "execution_count": 8,
   "id": "30bbbf1c",
   "metadata": {},
   "outputs": [
    {
     "name": "stdout",
     "output_type": "stream",
     "text": [
      "olleh\n"
     ]
    }
   ],
   "source": [
    "def reverse_string(s):\n",
    "    reversed_s = s[::-1]\n",
    "    return reversed_s\n",
    "\n",
    "# Example usage:\n",
    "input_string = \"hello\"\n",
    "result = reverse_string(input_string)\n",
    "\n",
    "print(result)  # Output: \"olleh\"\n"
   ]
  },
  {
   "cell_type": "code",
   "execution_count": null,
   "id": "3be629eb",
   "metadata": {},
   "outputs": [],
   "source": []
  }
 ],
 "metadata": {
  "kernelspec": {
   "display_name": "Python 3 (ipykernel)",
   "language": "python",
   "name": "python3"
  },
  "language_info": {
   "codemirror_mode": {
    "name": "ipython",
    "version": 3
   },
   "file_extension": ".py",
   "mimetype": "text/x-python",
   "name": "python",
   "nbconvert_exporter": "python",
   "pygments_lexer": "ipython3",
   "version": "3.9.12"
  }
 },
 "nbformat": 4,
 "nbformat_minor": 5
}
